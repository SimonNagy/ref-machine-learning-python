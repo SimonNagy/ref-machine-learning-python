{
 "cells": [
  {
   "cell_type": "code",
   "execution_count": 2,
   "metadata": {},
   "outputs": [],
   "source": [
    "import pandas as pd\n",
    "import numpy as np"
   ]
  },
  {
   "cell_type": "code",
   "execution_count": 3,
   "metadata": {},
   "outputs": [],
   "source": [
    "df = pd.read_csv('lending_club_loan_two.csv')"
   ]
  },
  {
   "cell_type": "code",
   "execution_count": 4,
   "metadata": {},
   "outputs": [],
   "source": [
    "df['loan_repaid'] = df['loan_status'].map({'Fully Paid':1,'Charged Off':0})"
   ]
  },
  {
   "cell_type": "code",
   "execution_count": 5,
   "metadata": {},
   "outputs": [],
   "source": [
    "df = df.drop('emp_title',axis=1)"
   ]
  },
  {
   "cell_type": "code",
   "execution_count": 6,
   "metadata": {},
   "outputs": [],
   "source": [
    "emp_co = df[df['loan_status']=='Charged Off'].groupby('emp_length').count()['loan_status']\n",
    "emp_fp = df[df['loan_status']=='Fully Paid'].groupby('emp_length').count()['loan_status']"
   ]
  },
  {
   "cell_type": "code",
   "execution_count": 7,
   "metadata": {},
   "outputs": [],
   "source": [
    "df = df.drop('emp_length',axis=1)"
   ]
  },
  {
   "cell_type": "code",
   "execution_count": 8,
   "metadata": {},
   "outputs": [],
   "source": [
    "df = df.drop('title',axis=1)"
   ]
  },
  {
   "cell_type": "code",
   "execution_count": 9,
   "metadata": {},
   "outputs": [
    {
     "name": "stderr",
     "output_type": "stream",
     "text": [
      "/tmp/ipykernel_11136/1719564190.py:1: FutureWarning: The default value of numeric_only in DataFrameGroupBy.mean is deprecated. In a future version, numeric_only will default to False. Either specify numeric_only or select only columns which should be valid for the function.\n",
      "  total_acc_avg = df.groupby('total_acc').mean()['mort_acc']\n"
     ]
    }
   ],
   "source": [
    "total_acc_avg = df.groupby('total_acc').mean()['mort_acc']\n",
    "\n",
    "# %%\n",
    "# filling out missing values in mort_acc\n",
    "def fill_mort_acc(total_acc,mort_acc):\n",
    "    if np.isnan(mort_acc):\n",
    "        return total_acc_avg[total_acc]\n",
    "    else:\n",
    "        return mort_acc\n",
    "\n",
    "# %%\n",
    "df['mort_acc'] = df.apply(lambda x: fill_mort_acc(x['total_acc'],x['mort_acc']),axis=1)"
   ]
  },
  {
   "cell_type": "code",
   "execution_count": 10,
   "metadata": {},
   "outputs": [],
   "source": [
    "df = df.dropna()"
   ]
  },
  {
   "cell_type": "code",
   "execution_count": 11,
   "metadata": {},
   "outputs": [],
   "source": [
    "dummies = pd.get_dummies(df[['verification_status','application_type','initial_list_status','purpose']],drop_first=True)\n",
    "df = pd.concat([df.drop(['verification_status','application_type','initial_list_status','purpose'],axis=1),dummies],axis=1)"
   ]
  },
  {
   "cell_type": "code",
   "execution_count": 12,
   "metadata": {},
   "outputs": [],
   "source": [
    "df['home_ownership'] = df['home_ownership'].replace(['NONE','ANY'],'OTHER')\n",
    "\n",
    "# %%\n",
    "dummies = pd.get_dummies(df['home_ownership'],drop_first=True)\n",
    "df = pd.concat([df.drop(['home_ownership'],axis=1),dummies],axis=1)"
   ]
  },
  {
   "cell_type": "code",
   "execution_count": 13,
   "metadata": {},
   "outputs": [],
   "source": [
    "df['address'].apply(lambda address:address[-5:])\n",
    "\n",
    "# %%\n",
    "df['zip_code'] = df['address'].apply(lambda address:address[-5:])"
   ]
  },
  {
   "cell_type": "code",
   "execution_count": 14,
   "metadata": {},
   "outputs": [],
   "source": [
    "dummies = pd.get_dummies(df['zip_code'],drop_first=True)\n",
    "df = pd.concat([df.drop(['zip_code'],axis=1),dummies],axis=1)\n",
    "\n",
    "# %%\n",
    "df = df.drop('address',axis=1)\n",
    "df = df.drop('issue_d',axis=1)\n",
    "df['earliest_cr_line'] = df['earliest_cr_line'].apply(lambda date: int(date[-4:]))\n",
    "df = df.drop('grade',axis=1)\n",
    "subgrade_dummies = pd.get_dummies(df['sub_grade'],drop_first=True)\n",
    "\n",
    "# %%\n",
    "df = pd.concat([df.drop('sub_grade',axis=1),subgrade_dummies],axis=1)\n",
    "\n",
    "# %%\n",
    "dummies = pd.get_dummies(df['term'],drop_first=True)\n",
    "df = pd.concat([df.drop(['term'],axis=1),dummies],axis=1)\n",
    "\n",
    "# %%\n",
    "dummies = pd.get_dummies(df['loan_status'],drop_first=True)\n",
    "df = pd.concat([df.drop(['loan_status'],axis=1),dummies],axis=1)"
   ]
  },
  {
   "cell_type": "code",
   "execution_count": 39,
   "metadata": {},
   "outputs": [],
   "source": [
    "from sklearn.model_selection import train_test_split\n",
    "X = df.drop('loan_repaid',axis=1).values\n",
    "y = df['loan_repaid'].values"
   ]
  },
  {
   "cell_type": "code",
   "execution_count": 40,
   "metadata": {},
   "outputs": [],
   "source": [
    "X_train,X_test,y_train,y_test = train_test_split(X,y,test_size=.2,random_state=101)"
   ]
  },
  {
   "cell_type": "code",
   "execution_count": 41,
   "metadata": {},
   "outputs": [],
   "source": [
    "from sklearn.preprocessing import MinMaxScaler"
   ]
  },
  {
   "cell_type": "code",
   "execution_count": 42,
   "metadata": {},
   "outputs": [],
   "source": [
    "scaler = MinMaxScaler()"
   ]
  },
  {
   "cell_type": "code",
   "execution_count": 43,
   "metadata": {},
   "outputs": [],
   "source": [
    "X_train = scaler.fit_transform(X_train)"
   ]
  },
  {
   "cell_type": "code",
   "execution_count": 44,
   "metadata": {},
   "outputs": [],
   "source": [
    "X_test = scaler.transform(X_test)"
   ]
  },
  {
   "cell_type": "code",
   "execution_count": 45,
   "metadata": {},
   "outputs": [],
   "source": [
    "import tensorflow as tf\n",
    "from tensorflow.keras.models import Sequential\n",
    "from tensorflow.keras.layers import Dense,Activation,Dropout\n",
    "from tensorflow.keras.constraints import max_norm"
   ]
  },
  {
   "cell_type": "code",
   "execution_count": 46,
   "metadata": {},
   "outputs": [],
   "source": [
    "model = Sequential()"
   ]
  },
  {
   "cell_type": "code",
   "execution_count": 47,
   "metadata": {},
   "outputs": [],
   "source": [
    "model.add(Dense(78,activation='relu')) # input layer\n",
    "model.add(Dropout(0.2))\n",
    "model.add(Dense(78,activation='relu')) \n",
    "model.add(Dropout(0.2))\n",
    "model.add(Dense(78,activation='relu'))\n",
    "model.add(Dropout(0.2))\n",
    "model.add(Dense(units=1,activation='sigmoid'))\n",
    "model.compile(loss='binary_crossentropy',optimizer='adam',metrics=['accuracy'])"
   ]
  },
  {
   "cell_type": "code",
   "execution_count": 48,
   "metadata": {},
   "outputs": [
    {
     "name": "stdout",
     "output_type": "stream",
     "text": [
      "Epoch 1/25\n",
      "422/422 [==============================] - 4s 7ms/step - loss: 0.0556 - accuracy: 0.9760 - val_loss: 4.7174e-06 - val_accuracy: 1.0000\n",
      "Epoch 2/25\n",
      "422/422 [==============================] - 4s 9ms/step - loss: 8.0691e-05 - accuracy: 1.0000 - val_loss: 5.1982e-07 - val_accuracy: 1.0000\n",
      "Epoch 3/25\n",
      "422/422 [==============================] - 4s 9ms/step - loss: 2.3385e-05 - accuracy: 1.0000 - val_loss: 1.4098e-07 - val_accuracy: 1.0000\n",
      "Epoch 4/25\n",
      "422/422 [==============================] - 3s 8ms/step - loss: 1.0992e-05 - accuracy: 1.0000 - val_loss: 6.0555e-08 - val_accuracy: 1.0000\n",
      "Epoch 5/25\n",
      "422/422 [==============================] - 3s 8ms/step - loss: 1.0119e-05 - accuracy: 1.0000 - val_loss: 2.8434e-08 - val_accuracy: 1.0000\n",
      "Epoch 6/25\n",
      "422/422 [==============================] - 4s 9ms/step - loss: 1.5801e-05 - accuracy: 1.0000 - val_loss: 2.0104e-08 - val_accuracy: 1.0000\n",
      "Epoch 7/25\n",
      "422/422 [==============================] - 4s 8ms/step - loss: 3.5393e-06 - accuracy: 1.0000 - val_loss: 1.0273e-08 - val_accuracy: 1.0000\n",
      "Epoch 8/25\n",
      "422/422 [==============================] - 4s 8ms/step - loss: 1.5652e-06 - accuracy: 1.0000 - val_loss: 3.5686e-09 - val_accuracy: 1.0000\n",
      "Epoch 9/25\n",
      "422/422 [==============================] - 4s 10ms/step - loss: 1.7171e-06 - accuracy: 1.0000 - val_loss: 2.5760e-09 - val_accuracy: 1.0000\n",
      "Epoch 10/25\n",
      "422/422 [==============================] - 4s 9ms/step - loss: 2.2282e-05 - accuracy: 1.0000 - val_loss: 5.2486e-09 - val_accuracy: 1.0000\n",
      "Epoch 11/25\n",
      "422/422 [==============================] - 4s 9ms/step - loss: 2.5835e-05 - accuracy: 1.0000 - val_loss: 4.7504e-09 - val_accuracy: 1.0000\n",
      "Epoch 12/25\n",
      "422/422 [==============================] - 3s 8ms/step - loss: 7.5090e-07 - accuracy: 1.0000 - val_loss: 1.8554e-09 - val_accuracy: 1.0000\n",
      "Epoch 13/25\n",
      "422/422 [==============================] - 4s 9ms/step - loss: 6.0460e-07 - accuracy: 1.0000 - val_loss: 1.1039e-09 - val_accuracy: 1.0000\n",
      "Epoch 14/25\n",
      "422/422 [==============================] - 4s 10ms/step - loss: 3.7214e-07 - accuracy: 1.0000 - val_loss: 6.0466e-10 - val_accuracy: 1.0000\n",
      "Epoch 15/25\n",
      "422/422 [==============================] - 3s 8ms/step - loss: 2.9450e-07 - accuracy: 1.0000 - val_loss: 3.1516e-10 - val_accuracy: 1.0000\n",
      "Epoch 16/25\n",
      "422/422 [==============================] - 4s 8ms/step - loss: 1.6662e-07 - accuracy: 1.0000 - val_loss: 2.1656e-10 - val_accuracy: 1.0000\n",
      "Epoch 17/25\n",
      "422/422 [==============================] - 4s 9ms/step - loss: 1.8410e-07 - accuracy: 1.0000 - val_loss: 1.2934e-10 - val_accuracy: 1.0000\n",
      "Epoch 18/25\n",
      "422/422 [==============================] - 4s 10ms/step - loss: 2.2961e-07 - accuracy: 1.0000 - val_loss: 1.0717e-10 - val_accuracy: 1.0000\n",
      "Epoch 19/25\n",
      "422/422 [==============================] - 4s 9ms/step - loss: 2.4855e-06 - accuracy: 1.0000 - val_loss: 1.0107e-10 - val_accuracy: 1.0000\n",
      "Epoch 20/25\n",
      "422/422 [==============================] - 4s 10ms/step - loss: 1.7887e-07 - accuracy: 1.0000 - val_loss: 3.9571e-11 - val_accuracy: 1.0000\n",
      "Epoch 21/25\n",
      "422/422 [==============================] - 5s 11ms/step - loss: 8.5573e-08 - accuracy: 1.0000 - val_loss: 2.4509e-11 - val_accuracy: 1.0000\n",
      "Epoch 22/25\n",
      "422/422 [==============================] - 5s 11ms/step - loss: 7.1210e-08 - accuracy: 1.0000 - val_loss: 1.6447e-11 - val_accuracy: 1.0000\n",
      "Epoch 23/25\n",
      "422/422 [==============================] - 4s 9ms/step - loss: 9.3323e-08 - accuracy: 1.0000 - val_loss: 1.0499e-11 - val_accuracy: 1.0000\n",
      "Epoch 24/25\n",
      "422/422 [==============================] - 4s 9ms/step - loss: 3.7781e-08 - accuracy: 1.0000 - val_loss: 6.7275e-12 - val_accuracy: 1.0000\n",
      "Epoch 25/25\n",
      "422/422 [==============================] - 3s 8ms/step - loss: 2.3313e-08 - accuracy: 1.0000 - val_loss: 4.6467e-12 - val_accuracy: 1.0000\n"
     ]
    },
    {
     "data": {
      "text/plain": [
       "<keras.callbacks.History at 0x7fdf742c8280>"
      ]
     },
     "execution_count": 48,
     "metadata": {},
     "output_type": "execute_result"
    }
   ],
   "source": [
    "model.fit(\n",
    "    x=X_train,\n",
    "    y=y_train,\n",
    "    batch_size=750,\n",
    "    epochs=25,\n",
    "    validation_data=(X_test,y_test),\n",
    ")"
   ]
  },
  {
   "cell_type": "code",
   "execution_count": 49,
   "metadata": {},
   "outputs": [],
   "source": [
    "losses = pd.DataFrame(model.history.history)"
   ]
  },
  {
   "cell_type": "code",
   "execution_count": 50,
   "metadata": {},
   "outputs": [
    {
     "data": {
      "text/plain": [
       "<AxesSubplot: >"
      ]
     },
     "execution_count": 50,
     "metadata": {},
     "output_type": "execute_result"
    },
    {
     "data": {
      "image/png": "[encoded data removed]",
      "text/plain": [
       "<Figure size 640x480 with 1 Axes>"
      ]
     },
     "metadata": {},
     "output_type": "display_data"
    }
   ],
   "source": [
    "losses[['loss','val_loss']].plot()"
   ]
  },
  {
   "cell_type": "code",
   "execution_count": 51,
   "metadata": {},
   "outputs": [],
   "source": [
    "from sklearn.metrics import classification_report,confusion_matrix"
   ]
  },
  {
   "cell_type": "code",
   "execution_count": 52,
   "metadata": {},
   "outputs": [
    {
     "name": "stdout",
     "output_type": "stream",
     "text": [
      "2471/2471 [==============================] - 3s 1ms/step\n"
     ]
    }
   ],
   "source": [
    "predict_x=model.predict(X_test) \n",
    "classes_x=np.argmax(predict_x,axis=1)"
   ]
  },
  {
   "cell_type": "code",
   "execution_count": 53,
   "metadata": {},
   "outputs": [
    {
     "data": {
      "text/plain": [
       "array([[1.],\n",
       "       [1.],\n",
       "       [1.],\n",
       "       ...,\n",
       "       [0.],\n",
       "       [1.],\n",
       "       [0.]], dtype=float32)"
      ]
     },
     "execution_count": 53,
     "metadata": {},
     "output_type": "execute_result"
    }
   ],
   "source": [
    "predict_x.round()"
   ]
  },
  {
   "cell_type": "code",
   "execution_count": 54,
   "metadata": {},
   "outputs": [
    {
     "ename": "ValueError",
     "evalue": "Classification metrics can't handle a mix of binary and continuous targets",
     "output_type": "error",
     "traceback": [
      "\u001b[0;31m---------------------------------------------------------------------------\u001b[0m",
      "\u001b[0;31mValueError\u001b[0m                                Traceback (most recent call last)",
      "Cell \u001b[0;32mIn[54], line 1\u001b[0m\n\u001b[0;32m----> 1\u001b[0m \u001b[39mprint\u001b[39m(classification_report(y_test,predict_x))\n",
      "File \u001b[0;32m~/.local/lib/python3.9/site-packages/sklearn/metrics/_classification.py:2310\u001b[0m, in \u001b[0;36mclassification_report\u001b[0;34m(y_true, y_pred, labels, target_names, sample_weight, digits, output_dict, zero_division)\u001b[0m\n\u001b[1;32m   2195\u001b[0m \u001b[39mdef\u001b[39;00m \u001b[39mclassification_report\u001b[39m(\n\u001b[1;32m   2196\u001b[0m     y_true,\n\u001b[1;32m   2197\u001b[0m     y_pred,\n\u001b[0;32m   (...)\u001b[0m\n\u001b[1;32m   2204\u001b[0m     zero_division\u001b[39m=\u001b[39m\u001b[39m\"\u001b[39m\u001b[39mwarn\u001b[39m\u001b[39m\"\u001b[39m,\n\u001b[1;32m   2205\u001b[0m ):\n\u001b[1;32m   2206\u001b[0m \u001b[39m    \u001b[39m\u001b[39m\"\"\"Build a text report showing the main classification metrics.\u001b[39;00m\n\u001b[1;32m   2207\u001b[0m \n\u001b[1;32m   2208\u001b[0m \u001b[39m    Read more in the :ref:`User Guide <classification_report>`.\u001b[39;00m\n\u001b[0;32m   (...)\u001b[0m\n\u001b[1;32m   2307\u001b[0m \u001b[39m    <BLANKLINE>\u001b[39;00m\n\u001b[1;32m   2308\u001b[0m \u001b[39m    \"\"\"\u001b[39;00m\n\u001b[0;32m-> 2310\u001b[0m     y_type, y_true, y_pred \u001b[39m=\u001b[39m _check_targets(y_true, y_pred)\n\u001b[1;32m   2312\u001b[0m     \u001b[39mif\u001b[39;00m labels \u001b[39mis\u001b[39;00m \u001b[39mNone\u001b[39;00m:\n\u001b[1;32m   2313\u001b[0m         labels \u001b[39m=\u001b[39m unique_labels(y_true, y_pred)\n",
      "File \u001b[0;32m~/.local/lib/python3.9/site-packages/sklearn/metrics/_classification.py:95\u001b[0m, in \u001b[0;36m_check_targets\u001b[0;34m(y_true, y_pred)\u001b[0m\n\u001b[1;32m     92\u001b[0m     y_type \u001b[39m=\u001b[39m {\u001b[39m\"\u001b[39m\u001b[39mmulticlass\u001b[39m\u001b[39m\"\u001b[39m}\n\u001b[1;32m     94\u001b[0m \u001b[39mif\u001b[39;00m \u001b[39mlen\u001b[39m(y_type) \u001b[39m>\u001b[39m \u001b[39m1\u001b[39m:\n\u001b[0;32m---> 95\u001b[0m     \u001b[39mraise\u001b[39;00m \u001b[39mValueError\u001b[39;00m(\n\u001b[1;32m     96\u001b[0m         \u001b[39m\"\u001b[39m\u001b[39mClassification metrics can\u001b[39m\u001b[39m'\u001b[39m\u001b[39mt handle a mix of \u001b[39m\u001b[39m{0}\u001b[39;00m\u001b[39m and \u001b[39m\u001b[39m{1}\u001b[39;00m\u001b[39m targets\u001b[39m\u001b[39m\"\u001b[39m\u001b[39m.\u001b[39mformat(\n\u001b[1;32m     97\u001b[0m             type_true, type_pred\n\u001b[1;32m     98\u001b[0m         )\n\u001b[1;32m     99\u001b[0m     )\n\u001b[1;32m    101\u001b[0m \u001b[39m# We can't have more than one value on y_type => The set is no more needed\u001b[39;00m\n\u001b[1;32m    102\u001b[0m y_type \u001b[39m=\u001b[39m y_type\u001b[39m.\u001b[39mpop()\n",
      "\u001b[0;31mValueError\u001b[0m: Classification metrics can't handle a mix of binary and continuous targets"
     ]
    }
   ],
   "source": [
    "print(classification_report(y_test,predict_x))"
   ]
  },
  {
   "cell_type": "code",
   "execution_count": null,
   "metadata": {},
   "outputs": [],
   "source": []
  }
 ],
 "metadata": {
  "kernelspec": {
   "display_name": "Python 3",
   "language": "python",
   "name": "python3"
  },
  "language_info": {
   "codemirror_mode": {
    "name": "ipython",
    "version": 3
   },
   "file_extension": ".py",
   "mimetype": "text/x-python",
   "name": "python",
   "nbconvert_exporter": "python",
   "pygments_lexer": "ipython3",
   "version": "3.9.2"
  },
  "orig_nbformat": 4,
  "vscode": {
   "interpreter": {
    "hash": "eb4a0ac80907d7f44e1a5e88d3d3381b33e3dbedd3a24d113e876f30a0c46bee"
   }
  }
 },
 "nbformat": 4,
 "nbformat_minor": 2
}
