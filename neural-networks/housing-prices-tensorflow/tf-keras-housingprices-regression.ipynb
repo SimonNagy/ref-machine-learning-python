{
 "nbformat": 4,
 "nbformat_minor": 0,
 "metadata": {
  "colab": {
   "provenance": [],
   "authorship_tag": "ABX9TyN2yiDODVa+WbV5aLYb9CE/"
  },
  "kernelspec": {
   "name": "python3",
   "display_name": "Python 3"
  },
  "language_info": {
   "name": "python"
  }
 },
 "cells": [
  {
   "cell_type": "code",
   "execution_count": 6,
   "metadata": {
    "id": "lng2cJ2wFqls",
    "executionInfo": {
     "status": "ok",
     "timestamp": 1673445033134,
     "user_tz": -60,
     "elapsed": 595,
     "user": {
      "displayName": "Simon Nagy",
      "userId": "15507675268474561688"
     }
    }
   },
   "outputs": [],
   "source": [
    "import pandas as pd\n",
    "import numpy as np\n",
    "import seaborn as sns\n",
    "import matplotlib.pyplot as plt"
   ]
  },
  {
   "cell_type": "code",
   "source": [
    "df = pd.read_csv('kc_house_data.csv')\n",
    "# kaggle house sales prediction dataset"
   ],
   "metadata": {
    "id": "xBj9yTkUGJ3M",
    "executionInfo": {
     "status": "ok",
     "timestamp": 1673445087866,
     "user_tz": -60,
     "elapsed": 302,
     "user": {
      "displayName": "Simon Nagy",
      "userId": "15507675268474561688"
     }
    }
   },
   "execution_count": 7,
   "outputs": [
    {
     "ename": "FileNotFoundError",
     "evalue": "[Errno 2] No such file or directory: 'kc_house_data.csv'",
     "output_type": "error",
     "traceback": [
      "\u001B[0;31m---------------------------------------------------------------------------\u001B[0m",
      "\u001B[0;31mFileNotFoundError\u001B[0m                         Traceback (most recent call last)",
      "Cell \u001B[0;32mIn[7], line 1\u001B[0m\n\u001B[0;32m----> 1\u001B[0m df \u001B[38;5;241m=\u001B[39m \u001B[43mpd\u001B[49m\u001B[38;5;241;43m.\u001B[39;49m\u001B[43mread_csv\u001B[49m\u001B[43m(\u001B[49m\u001B[38;5;124;43m'\u001B[39;49m\u001B[38;5;124;43mkc_house_data.csv\u001B[39;49m\u001B[38;5;124;43m'\u001B[39;49m\u001B[43m)\u001B[49m\n",
      "File \u001B[0;32m~/miniconda3/envs/dataspell_miniconda/lib/python3.8/site-packages/pandas/util/_decorators.py:211\u001B[0m, in \u001B[0;36mdeprecate_kwarg.<locals>._deprecate_kwarg.<locals>.wrapper\u001B[0;34m(*args, **kwargs)\u001B[0m\n\u001B[1;32m    209\u001B[0m     \u001B[38;5;28;01melse\u001B[39;00m:\n\u001B[1;32m    210\u001B[0m         kwargs[new_arg_name] \u001B[38;5;241m=\u001B[39m new_arg_value\n\u001B[0;32m--> 211\u001B[0m \u001B[38;5;28;01mreturn\u001B[39;00m \u001B[43mfunc\u001B[49m\u001B[43m(\u001B[49m\u001B[38;5;241;43m*\u001B[39;49m\u001B[43margs\u001B[49m\u001B[43m,\u001B[49m\u001B[43m \u001B[49m\u001B[38;5;241;43m*\u001B[39;49m\u001B[38;5;241;43m*\u001B[39;49m\u001B[43mkwargs\u001B[49m\u001B[43m)\u001B[49m\n",
      "File \u001B[0;32m~/miniconda3/envs/dataspell_miniconda/lib/python3.8/site-packages/pandas/util/_decorators.py:331\u001B[0m, in \u001B[0;36mdeprecate_nonkeyword_arguments.<locals>.decorate.<locals>.wrapper\u001B[0;34m(*args, **kwargs)\u001B[0m\n\u001B[1;32m    325\u001B[0m \u001B[38;5;28;01mif\u001B[39;00m \u001B[38;5;28mlen\u001B[39m(args) \u001B[38;5;241m>\u001B[39m num_allow_args:\n\u001B[1;32m    326\u001B[0m     warnings\u001B[38;5;241m.\u001B[39mwarn(\n\u001B[1;32m    327\u001B[0m         msg\u001B[38;5;241m.\u001B[39mformat(arguments\u001B[38;5;241m=\u001B[39m_format_argument_list(allow_args)),\n\u001B[1;32m    328\u001B[0m         \u001B[38;5;167;01mFutureWarning\u001B[39;00m,\n\u001B[1;32m    329\u001B[0m         stacklevel\u001B[38;5;241m=\u001B[39mfind_stack_level(),\n\u001B[1;32m    330\u001B[0m     )\n\u001B[0;32m--> 331\u001B[0m \u001B[38;5;28;01mreturn\u001B[39;00m \u001B[43mfunc\u001B[49m\u001B[43m(\u001B[49m\u001B[38;5;241;43m*\u001B[39;49m\u001B[43margs\u001B[49m\u001B[43m,\u001B[49m\u001B[43m \u001B[49m\u001B[38;5;241;43m*\u001B[39;49m\u001B[38;5;241;43m*\u001B[39;49m\u001B[43mkwargs\u001B[49m\u001B[43m)\u001B[49m\n",
      "File \u001B[0;32m~/miniconda3/envs/dataspell_miniconda/lib/python3.8/site-packages/pandas/io/parsers/readers.py:950\u001B[0m, in \u001B[0;36mread_csv\u001B[0;34m(filepath_or_buffer, sep, delimiter, header, names, index_col, usecols, squeeze, prefix, mangle_dupe_cols, dtype, engine, converters, true_values, false_values, skipinitialspace, skiprows, skipfooter, nrows, na_values, keep_default_na, na_filter, verbose, skip_blank_lines, parse_dates, infer_datetime_format, keep_date_col, date_parser, dayfirst, cache_dates, iterator, chunksize, compression, thousands, decimal, lineterminator, quotechar, quoting, doublequote, escapechar, comment, encoding, encoding_errors, dialect, error_bad_lines, warn_bad_lines, on_bad_lines, delim_whitespace, low_memory, memory_map, float_precision, storage_options)\u001B[0m\n\u001B[1;32m    935\u001B[0m kwds_defaults \u001B[38;5;241m=\u001B[39m _refine_defaults_read(\n\u001B[1;32m    936\u001B[0m     dialect,\n\u001B[1;32m    937\u001B[0m     delimiter,\n\u001B[0;32m   (...)\u001B[0m\n\u001B[1;32m    946\u001B[0m     defaults\u001B[38;5;241m=\u001B[39m{\u001B[38;5;124m\"\u001B[39m\u001B[38;5;124mdelimiter\u001B[39m\u001B[38;5;124m\"\u001B[39m: \u001B[38;5;124m\"\u001B[39m\u001B[38;5;124m,\u001B[39m\u001B[38;5;124m\"\u001B[39m},\n\u001B[1;32m    947\u001B[0m )\n\u001B[1;32m    948\u001B[0m kwds\u001B[38;5;241m.\u001B[39mupdate(kwds_defaults)\n\u001B[0;32m--> 950\u001B[0m \u001B[38;5;28;01mreturn\u001B[39;00m \u001B[43m_read\u001B[49m\u001B[43m(\u001B[49m\u001B[43mfilepath_or_buffer\u001B[49m\u001B[43m,\u001B[49m\u001B[43m \u001B[49m\u001B[43mkwds\u001B[49m\u001B[43m)\u001B[49m\n",
      "File \u001B[0;32m~/miniconda3/envs/dataspell_miniconda/lib/python3.8/site-packages/pandas/io/parsers/readers.py:605\u001B[0m, in \u001B[0;36m_read\u001B[0;34m(filepath_or_buffer, kwds)\u001B[0m\n\u001B[1;32m    602\u001B[0m _validate_names(kwds\u001B[38;5;241m.\u001B[39mget(\u001B[38;5;124m\"\u001B[39m\u001B[38;5;124mnames\u001B[39m\u001B[38;5;124m\"\u001B[39m, \u001B[38;5;28;01mNone\u001B[39;00m))\n\u001B[1;32m    604\u001B[0m \u001B[38;5;66;03m# Create the parser.\u001B[39;00m\n\u001B[0;32m--> 605\u001B[0m parser \u001B[38;5;241m=\u001B[39m \u001B[43mTextFileReader\u001B[49m\u001B[43m(\u001B[49m\u001B[43mfilepath_or_buffer\u001B[49m\u001B[43m,\u001B[49m\u001B[43m \u001B[49m\u001B[38;5;241;43m*\u001B[39;49m\u001B[38;5;241;43m*\u001B[39;49m\u001B[43mkwds\u001B[49m\u001B[43m)\u001B[49m\n\u001B[1;32m    607\u001B[0m \u001B[38;5;28;01mif\u001B[39;00m chunksize \u001B[38;5;129;01mor\u001B[39;00m iterator:\n\u001B[1;32m    608\u001B[0m     \u001B[38;5;28;01mreturn\u001B[39;00m parser\n",
      "File \u001B[0;32m~/miniconda3/envs/dataspell_miniconda/lib/python3.8/site-packages/pandas/io/parsers/readers.py:1442\u001B[0m, in \u001B[0;36mTextFileReader.__init__\u001B[0;34m(self, f, engine, **kwds)\u001B[0m\n\u001B[1;32m   1439\u001B[0m     \u001B[38;5;28mself\u001B[39m\u001B[38;5;241m.\u001B[39moptions[\u001B[38;5;124m\"\u001B[39m\u001B[38;5;124mhas_index_names\u001B[39m\u001B[38;5;124m\"\u001B[39m] \u001B[38;5;241m=\u001B[39m kwds[\u001B[38;5;124m\"\u001B[39m\u001B[38;5;124mhas_index_names\u001B[39m\u001B[38;5;124m\"\u001B[39m]\n\u001B[1;32m   1441\u001B[0m \u001B[38;5;28mself\u001B[39m\u001B[38;5;241m.\u001B[39mhandles: IOHandles \u001B[38;5;241m|\u001B[39m \u001B[38;5;28;01mNone\u001B[39;00m \u001B[38;5;241m=\u001B[39m \u001B[38;5;28;01mNone\u001B[39;00m\n\u001B[0;32m-> 1442\u001B[0m \u001B[38;5;28mself\u001B[39m\u001B[38;5;241m.\u001B[39m_engine \u001B[38;5;241m=\u001B[39m \u001B[38;5;28;43mself\u001B[39;49m\u001B[38;5;241;43m.\u001B[39;49m\u001B[43m_make_engine\u001B[49m\u001B[43m(\u001B[49m\u001B[43mf\u001B[49m\u001B[43m,\u001B[49m\u001B[43m \u001B[49m\u001B[38;5;28;43mself\u001B[39;49m\u001B[38;5;241;43m.\u001B[39;49m\u001B[43mengine\u001B[49m\u001B[43m)\u001B[49m\n",
      "File \u001B[0;32m~/miniconda3/envs/dataspell_miniconda/lib/python3.8/site-packages/pandas/io/parsers/readers.py:1735\u001B[0m, in \u001B[0;36mTextFileReader._make_engine\u001B[0;34m(self, f, engine)\u001B[0m\n\u001B[1;32m   1733\u001B[0m     \u001B[38;5;28;01mif\u001B[39;00m \u001B[38;5;124m\"\u001B[39m\u001B[38;5;124mb\u001B[39m\u001B[38;5;124m\"\u001B[39m \u001B[38;5;129;01mnot\u001B[39;00m \u001B[38;5;129;01min\u001B[39;00m mode:\n\u001B[1;32m   1734\u001B[0m         mode \u001B[38;5;241m+\u001B[39m\u001B[38;5;241m=\u001B[39m \u001B[38;5;124m\"\u001B[39m\u001B[38;5;124mb\u001B[39m\u001B[38;5;124m\"\u001B[39m\n\u001B[0;32m-> 1735\u001B[0m \u001B[38;5;28mself\u001B[39m\u001B[38;5;241m.\u001B[39mhandles \u001B[38;5;241m=\u001B[39m \u001B[43mget_handle\u001B[49m\u001B[43m(\u001B[49m\n\u001B[1;32m   1736\u001B[0m \u001B[43m    \u001B[49m\u001B[43mf\u001B[49m\u001B[43m,\u001B[49m\n\u001B[1;32m   1737\u001B[0m \u001B[43m    \u001B[49m\u001B[43mmode\u001B[49m\u001B[43m,\u001B[49m\n\u001B[1;32m   1738\u001B[0m \u001B[43m    \u001B[49m\u001B[43mencoding\u001B[49m\u001B[38;5;241;43m=\u001B[39;49m\u001B[38;5;28;43mself\u001B[39;49m\u001B[38;5;241;43m.\u001B[39;49m\u001B[43moptions\u001B[49m\u001B[38;5;241;43m.\u001B[39;49m\u001B[43mget\u001B[49m\u001B[43m(\u001B[49m\u001B[38;5;124;43m\"\u001B[39;49m\u001B[38;5;124;43mencoding\u001B[39;49m\u001B[38;5;124;43m\"\u001B[39;49m\u001B[43m,\u001B[49m\u001B[43m \u001B[49m\u001B[38;5;28;43;01mNone\u001B[39;49;00m\u001B[43m)\u001B[49m\u001B[43m,\u001B[49m\n\u001B[1;32m   1739\u001B[0m \u001B[43m    \u001B[49m\u001B[43mcompression\u001B[49m\u001B[38;5;241;43m=\u001B[39;49m\u001B[38;5;28;43mself\u001B[39;49m\u001B[38;5;241;43m.\u001B[39;49m\u001B[43moptions\u001B[49m\u001B[38;5;241;43m.\u001B[39;49m\u001B[43mget\u001B[49m\u001B[43m(\u001B[49m\u001B[38;5;124;43m\"\u001B[39;49m\u001B[38;5;124;43mcompression\u001B[39;49m\u001B[38;5;124;43m\"\u001B[39;49m\u001B[43m,\u001B[49m\u001B[43m \u001B[49m\u001B[38;5;28;43;01mNone\u001B[39;49;00m\u001B[43m)\u001B[49m\u001B[43m,\u001B[49m\n\u001B[1;32m   1740\u001B[0m \u001B[43m    \u001B[49m\u001B[43mmemory_map\u001B[49m\u001B[38;5;241;43m=\u001B[39;49m\u001B[38;5;28;43mself\u001B[39;49m\u001B[38;5;241;43m.\u001B[39;49m\u001B[43moptions\u001B[49m\u001B[38;5;241;43m.\u001B[39;49m\u001B[43mget\u001B[49m\u001B[43m(\u001B[49m\u001B[38;5;124;43m\"\u001B[39;49m\u001B[38;5;124;43mmemory_map\u001B[39;49m\u001B[38;5;124;43m\"\u001B[39;49m\u001B[43m,\u001B[49m\u001B[43m \u001B[49m\u001B[38;5;28;43;01mFalse\u001B[39;49;00m\u001B[43m)\u001B[49m\u001B[43m,\u001B[49m\n\u001B[1;32m   1741\u001B[0m \u001B[43m    \u001B[49m\u001B[43mis_text\u001B[49m\u001B[38;5;241;43m=\u001B[39;49m\u001B[43mis_text\u001B[49m\u001B[43m,\u001B[49m\n\u001B[1;32m   1742\u001B[0m \u001B[43m    \u001B[49m\u001B[43merrors\u001B[49m\u001B[38;5;241;43m=\u001B[39;49m\u001B[38;5;28;43mself\u001B[39;49m\u001B[38;5;241;43m.\u001B[39;49m\u001B[43moptions\u001B[49m\u001B[38;5;241;43m.\u001B[39;49m\u001B[43mget\u001B[49m\u001B[43m(\u001B[49m\u001B[38;5;124;43m\"\u001B[39;49m\u001B[38;5;124;43mencoding_errors\u001B[39;49m\u001B[38;5;124;43m\"\u001B[39;49m\u001B[43m,\u001B[49m\u001B[43m \u001B[49m\u001B[38;5;124;43m\"\u001B[39;49m\u001B[38;5;124;43mstrict\u001B[39;49m\u001B[38;5;124;43m\"\u001B[39;49m\u001B[43m)\u001B[49m\u001B[43m,\u001B[49m\n\u001B[1;32m   1743\u001B[0m \u001B[43m    \u001B[49m\u001B[43mstorage_options\u001B[49m\u001B[38;5;241;43m=\u001B[39;49m\u001B[38;5;28;43mself\u001B[39;49m\u001B[38;5;241;43m.\u001B[39;49m\u001B[43moptions\u001B[49m\u001B[38;5;241;43m.\u001B[39;49m\u001B[43mget\u001B[49m\u001B[43m(\u001B[49m\u001B[38;5;124;43m\"\u001B[39;49m\u001B[38;5;124;43mstorage_options\u001B[39;49m\u001B[38;5;124;43m\"\u001B[39;49m\u001B[43m,\u001B[49m\u001B[43m \u001B[49m\u001B[38;5;28;43;01mNone\u001B[39;49;00m\u001B[43m)\u001B[49m\u001B[43m,\u001B[49m\n\u001B[1;32m   1744\u001B[0m \u001B[43m\u001B[49m\u001B[43m)\u001B[49m\n\u001B[1;32m   1745\u001B[0m \u001B[38;5;28;01massert\u001B[39;00m \u001B[38;5;28mself\u001B[39m\u001B[38;5;241m.\u001B[39mhandles \u001B[38;5;129;01mis\u001B[39;00m \u001B[38;5;129;01mnot\u001B[39;00m \u001B[38;5;28;01mNone\u001B[39;00m\n\u001B[1;32m   1746\u001B[0m f \u001B[38;5;241m=\u001B[39m \u001B[38;5;28mself\u001B[39m\u001B[38;5;241m.\u001B[39mhandles\u001B[38;5;241m.\u001B[39mhandle\n",
      "File \u001B[0;32m~/miniconda3/envs/dataspell_miniconda/lib/python3.8/site-packages/pandas/io/common.py:856\u001B[0m, in \u001B[0;36mget_handle\u001B[0;34m(path_or_buf, mode, encoding, compression, memory_map, is_text, errors, storage_options)\u001B[0m\n\u001B[1;32m    851\u001B[0m \u001B[38;5;28;01melif\u001B[39;00m \u001B[38;5;28misinstance\u001B[39m(handle, \u001B[38;5;28mstr\u001B[39m):\n\u001B[1;32m    852\u001B[0m     \u001B[38;5;66;03m# Check whether the filename is to be opened in binary mode.\u001B[39;00m\n\u001B[1;32m    853\u001B[0m     \u001B[38;5;66;03m# Binary mode does not support 'encoding' and 'newline'.\u001B[39;00m\n\u001B[1;32m    854\u001B[0m     \u001B[38;5;28;01mif\u001B[39;00m ioargs\u001B[38;5;241m.\u001B[39mencoding \u001B[38;5;129;01mand\u001B[39;00m \u001B[38;5;124m\"\u001B[39m\u001B[38;5;124mb\u001B[39m\u001B[38;5;124m\"\u001B[39m \u001B[38;5;129;01mnot\u001B[39;00m \u001B[38;5;129;01min\u001B[39;00m ioargs\u001B[38;5;241m.\u001B[39mmode:\n\u001B[1;32m    855\u001B[0m         \u001B[38;5;66;03m# Encoding\u001B[39;00m\n\u001B[0;32m--> 856\u001B[0m         handle \u001B[38;5;241m=\u001B[39m \u001B[38;5;28;43mopen\u001B[39;49m\u001B[43m(\u001B[49m\n\u001B[1;32m    857\u001B[0m \u001B[43m            \u001B[49m\u001B[43mhandle\u001B[49m\u001B[43m,\u001B[49m\n\u001B[1;32m    858\u001B[0m \u001B[43m            \u001B[49m\u001B[43mioargs\u001B[49m\u001B[38;5;241;43m.\u001B[39;49m\u001B[43mmode\u001B[49m\u001B[43m,\u001B[49m\n\u001B[1;32m    859\u001B[0m \u001B[43m            \u001B[49m\u001B[43mencoding\u001B[49m\u001B[38;5;241;43m=\u001B[39;49m\u001B[43mioargs\u001B[49m\u001B[38;5;241;43m.\u001B[39;49m\u001B[43mencoding\u001B[49m\u001B[43m,\u001B[49m\n\u001B[1;32m    860\u001B[0m \u001B[43m            \u001B[49m\u001B[43merrors\u001B[49m\u001B[38;5;241;43m=\u001B[39;49m\u001B[43merrors\u001B[49m\u001B[43m,\u001B[49m\n\u001B[1;32m    861\u001B[0m \u001B[43m            \u001B[49m\u001B[43mnewline\u001B[49m\u001B[38;5;241;43m=\u001B[39;49m\u001B[38;5;124;43m\"\u001B[39;49m\u001B[38;5;124;43m\"\u001B[39;49m\u001B[43m,\u001B[49m\n\u001B[1;32m    862\u001B[0m \u001B[43m        \u001B[49m\u001B[43m)\u001B[49m\n\u001B[1;32m    863\u001B[0m     \u001B[38;5;28;01melse\u001B[39;00m:\n\u001B[1;32m    864\u001B[0m         \u001B[38;5;66;03m# Binary mode\u001B[39;00m\n\u001B[1;32m    865\u001B[0m         handle \u001B[38;5;241m=\u001B[39m \u001B[38;5;28mopen\u001B[39m(handle, ioargs\u001B[38;5;241m.\u001B[39mmode)\n",
      "\u001B[0;31mFileNotFoundError\u001B[0m: [Errno 2] No such file or directory: 'kc_house_data.csv'"
     ]
    }
   ]
  },
  {
   "cell_type": "code",
   "source": [
    "df.describe().transpose()"
   ],
   "metadata": {
    "colab": {
     "base_uri": "https://localhost:8080/",
     "height": 741
    },
    "id": "EhnNTV0RGZbD",
    "executionInfo": {
     "status": "ok",
     "timestamp": 1673445185038,
     "user_tz": -60,
     "elapsed": 5,
     "user": {
      "displayName": "Simon Nagy",
      "userId": "15507675268474561688"
     }
    },
    "outputId": "2e0e243d-6ddb-42ce-b312-6afa90fe59fd"
   },
   "execution_count": null,
   "outputs": []
  },
  {
   "cell_type": "code",
   "source": [
    "plt.figure(figsize=(10,6))\n",
    "sns.displot(df['price'])"
   ],
   "metadata": {
    "colab": {
     "base_uri": "https://localhost:8080/",
     "height": 404
    },
    "id": "mkKh41zWGjxa",
    "executionInfo": {
     "status": "ok",
     "timestamp": 1673445288445,
     "user_tz": -60,
     "elapsed": 1463,
     "user": {
      "displayName": "Simon Nagy",
      "userId": "15507675268474561688"
     }
    },
    "outputId": "4f601dd5-8f05-4200-922d-a0f5a4094e59"
   },
   "execution_count": null,
   "outputs": []
  },
  {
   "cell_type": "code",
   "source": [
    "sns.countplot(df['bedrooms'])"
   ],
   "metadata": {
    "colab": {
     "base_uri": "https://localhost:8080/",
     "height": 351
    },
    "id": "-tfV5VPwHD2z",
    "executionInfo": {
     "status": "ok",
     "timestamp": 1673445355608,
     "user_tz": -60,
     "elapsed": 281,
     "user": {
      "displayName": "Simon Nagy",
      "userId": "15507675268474561688"
     }
    },
    "outputId": "35d717d3-f711-48f7-fbcc-e566337dd53e"
   },
   "execution_count": null,
   "outputs": []
  },
  {
   "cell_type": "code",
   "source": [
    "df.corr()['price'].sort_values()\n",
    "# correlation with the price; we can analyze this further"
   ],
   "metadata": {
    "colab": {
     "base_uri": "https://localhost:8080/"
    },
    "id": "2eSUEI5VHaiL",
    "executionInfo": {
     "status": "ok",
     "timestamp": 1673445428052,
     "user_tz": -60,
     "elapsed": 3,
     "user": {
      "displayName": "Simon Nagy",
      "userId": "15507675268474561688"
     }
    },
    "outputId": "ba31f422-4d1d-4f13-f108-c9d690d814f9"
   },
   "execution_count": null,
   "outputs": []
  },
  {
   "cell_type": "code",
   "source": [
    "sns.scatterplot(x='price',y='sqft_living',data=df)"
   ],
   "metadata": {
    "colab": {
     "base_uri": "https://localhost:8080/",
     "height": 297
    },
    "id": "Rqh1C2OUHmT4",
    "executionInfo": {
     "status": "ok",
     "timestamp": 1673445470268,
     "user_tz": -60,
     "elapsed": 586,
     "user": {
      "displayName": "Simon Nagy",
      "userId": "15507675268474561688"
     }
    },
    "outputId": "06466a38-9cef-40b6-fc16-29829504605a"
   },
   "execution_count": null,
   "outputs": []
  },
  {
   "cell_type": "code",
   "source": [
    "sns.boxplot(x='bedrooms',y='price',data=df)"
   ],
   "metadata": {
    "colab": {
     "base_uri": "https://localhost:8080/",
     "height": 307
    },
    "id": "c8TV2Z6BH2kK",
    "executionInfo": {
     "status": "ok",
     "timestamp": 1673445525885,
     "user_tz": -60,
     "elapsed": 1175,
     "user": {
      "displayName": "Simon Nagy",
      "userId": "15507675268474561688"
     }
    },
    "outputId": "1a155a30-c239-45c9-b01d-1716e1969121"
   },
   "execution_count": null,
   "outputs": []
  },
  {
   "cell_type": "code",
   "source": [
    "plt.figure(figsize=(20,20))\n",
    "sns.scatterplot(x='price',y='long',data=df)"
   ],
   "metadata": {
    "colab": {
     "base_uri": "https://localhost:8080/",
     "height": 801
    },
    "id": "Z0S9w3HUIEHe",
    "executionInfo": {
     "status": "ok",
     "timestamp": 1673445779710,
     "user_tz": -60,
     "elapsed": 2138,
     "user": {
      "displayName": "Simon Nagy",
      "userId": "15507675268474561688"
     }
    },
    "outputId": "e1b934de-2e43-40d0-ed13-ea7fbef4e7ad"
   },
   "execution_count": null,
   "outputs": []
  },
  {
   "cell_type": "code",
   "source": [
    "plt.figure(figsize=(20,20))\n",
    "sns.scatterplot(x='price',y='lat',data=df)\n",
    "# at a certain combination of lat - long there is an expensive housing area"
   ],
   "metadata": {
    "colab": {
     "base_uri": "https://localhost:8080/",
     "height": 811
    },
    "id": "24lmsx7RJBx0",
    "executionInfo": {
     "status": "ok",
     "timestamp": 1673445805271,
     "user_tz": -60,
     "elapsed": 2414,
     "user": {
      "displayName": "Simon Nagy",
      "userId": "15507675268474561688"
     }
    },
    "outputId": "51609012-6612-40f0-a1bf-44aae22604c8"
   },
   "execution_count": null,
   "outputs": []
  },
  {
   "cell_type": "code",
   "source": [
    "plt.figure(figsize=(20,20))\n",
    "sns.scatterplot(x='long',y='lat',data=df,hue='price')\n",
    "# matxhing these results in a map"
   ],
   "metadata": {
    "colab": {
     "base_uri": "https://localhost:8080/",
     "height": 811
    },
    "id": "vzuwyIdMJIHl",
    "executionInfo": {
     "status": "ok",
     "timestamp": 1673445916665,
     "user_tz": -60,
     "elapsed": 3424,
     "user": {
      "displayName": "Simon Nagy",
      "userId": "15507675268474561688"
     }
    },
    "outputId": "68e51168-8a45-4b7b-cf4d-7f1667e5ad62"
   },
   "execution_count": null,
   "outputs": []
  },
  {
   "cell_type": "code",
   "source": [
    "df.sort_values('price',ascending=False).head(20) # top 20 most expensive houses"
   ],
   "metadata": {
    "colab": {
     "base_uri": "https://localhost:8080/",
     "height": 770
    },
    "id": "QicmriepJbax",
    "executionInfo": {
     "status": "ok",
     "timestamp": 1673445989657,
     "user_tz": -60,
     "elapsed": 4,
     "user": {
      "displayName": "Simon Nagy",
      "userId": "15507675268474561688"
     }
    },
    "outputId": "d9f48686-d123-4a72-f9b8-1e688b51d71a"
   },
   "execution_count": null,
   "outputs": []
  },
  {
   "cell_type": "code",
   "source": [
    "# sample out the top 1% of the houses by price to clear up the map\n",
    "non_top_1_percent = df.sort_values('price',ascending=False).iloc[216:]\n",
    "plt.figure(figsize=(12,8))\n",
    "sns.scatterplot(x='long',y='lat',data=non_top_1_percent,alpha=.45,palette='RdYlGn',hue='price')"
   ],
   "metadata": {
    "colab": {
     "base_uri": "https://localhost:8080/",
     "height": 514
    },
    "id": "wnJwyc5wJzBT",
    "executionInfo": {
     "status": "ok",
     "timestamp": 1673446226803,
     "user_tz": -60,
     "elapsed": 2327,
     "user": {
      "displayName": "Simon Nagy",
      "userId": "15507675268474561688"
     }
    },
    "outputId": "a534d0d1-b8ef-4ba0-afb4-3e9742c111b3"
   },
   "execution_count": null,
   "outputs": []
  },
  {
   "cell_type": "code",
   "source": [
    "sns.boxplot(x='waterfront',y='price',data=df)"
   ],
   "metadata": {
    "colab": {
     "base_uri": "https://localhost:8080/",
     "height": 307
    },
    "id": "ynBqbB2TKQ6-",
    "executionInfo": {
     "status": "ok",
     "timestamp": 1673446252435,
     "user_tz": -60,
     "elapsed": 427,
     "user": {
      "displayName": "Simon Nagy",
      "userId": "15507675268474561688"
     }
    },
    "outputId": "b7483f8e-90ab-465d-a93d-9415e97804cc"
   },
   "execution_count": null,
   "outputs": []
  },
  {
   "cell_type": "code",
   "source": [
    "# dropping attributes which are not relevant\n",
    "df = df.drop('id',axis=1)"
   ],
   "metadata": {
    "id": "2hKPqRswK1ht",
    "executionInfo": {
     "status": "ok",
     "timestamp": 1673446327139,
     "user_tz": -60,
     "elapsed": 2,
     "user": {
      "displayName": "Simon Nagy",
      "userId": "15507675268474561688"
     }
    }
   },
   "execution_count": null,
   "outputs": []
  },
  {
   "cell_type": "code",
   "source": [
    "df['date'] = pd.to_datetime(df['date']) # converting date string into date datetime\n",
    "df['date']"
   ],
   "metadata": {
    "colab": {
     "base_uri": "https://localhost:8080/"
    },
    "id": "HfgcNEuvLH-c",
    "executionInfo": {
     "status": "ok",
     "timestamp": 1673446371784,
     "user_tz": -60,
     "elapsed": 4,
     "user": {
      "displayName": "Simon Nagy",
      "userId": "15507675268474561688"
     }
    },
    "outputId": "c507eef2-aeb9-4db4-c3c8-f8489f7737e2"
   },
   "execution_count": null,
   "outputs": []
  },
  {
   "cell_type": "code",
   "source": [
    "df['year'] = df['date'].apply(lambda date: date.year)\n",
    "df['month'] = df['date'].apply(lambda date: date.month)"
   ],
   "metadata": {
    "id": "p7m7IyqOLPsf",
    "executionInfo": {
     "status": "ok",
     "timestamp": 1673446486213,
     "user_tz": -60,
     "elapsed": 403,
     "user": {
      "displayName": "Simon Nagy",
      "userId": "15507675268474561688"
     }
    }
   },
   "execution_count": null,
   "outputs": []
  },
  {
   "cell_type": "code",
   "source": [
    "df.head(1)"
   ],
   "metadata": {
    "colab": {
     "base_uri": "https://localhost:8080/",
     "height": 191
    },
    "id": "UcA3jrjSLugd",
    "executionInfo": {
     "status": "ok",
     "timestamp": 1673446490291,
     "user_tz": -60,
     "elapsed": 5,
     "user": {
      "displayName": "Simon Nagy",
      "userId": "15507675268474561688"
     }
    },
    "outputId": "bf3a8db8-fd9a-46a3-fcb7-287cd2dbeb5a"
   },
   "execution_count": null,
   "outputs": []
  },
  {
   "cell_type": "code",
   "source": [
    "plt.figure(figsize=(10,6))\n",
    "sns.boxplot(x='month',y='price',data=df)"
   ],
   "metadata": {
    "colab": {
     "base_uri": "https://localhost:8080/",
     "height": 416
    },
    "id": "vY8ZX7i8Lv00",
    "executionInfo": {
     "status": "ok",
     "timestamp": 1673446530624,
     "user_tz": -60,
     "elapsed": 731,
     "user": {
      "displayName": "Simon Nagy",
      "userId": "15507675268474561688"
     }
    },
    "outputId": "2ad77d45-cc5d-4e12-892c-1432c058a005"
   },
   "execution_count": null,
   "outputs": []
  },
  {
   "cell_type": "code",
   "source": [
    "df.groupby('month').mean()['price'].plot()"
   ],
   "metadata": {
    "colab": {
     "base_uri": "https://localhost:8080/",
     "height": 296
    },
    "id": "DtATbYSiL5hz",
    "executionInfo": {
     "status": "ok",
     "timestamp": 1673446570590,
     "user_tz": -60,
     "elapsed": 1436,
     "user": {
      "displayName": "Simon Nagy",
      "userId": "15507675268474561688"
     }
    },
    "outputId": "e72af4cd-5ede-490b-bcbb-2078aedd049d"
   },
   "execution_count": null,
   "outputs": []
  },
  {
   "cell_type": "code",
   "source": [
    "df.groupby('year').mean()['price'].plot()"
   ],
   "metadata": {
    "colab": {
     "base_uri": "https://localhost:8080/",
     "height": 296
    },
    "id": "GMakroNCMAGt",
    "executionInfo": {
     "status": "ok",
     "timestamp": 1673446608323,
     "user_tz": -60,
     "elapsed": 527,
     "user": {
      "displayName": "Simon Nagy",
      "userId": "15507675268474561688"
     }
    },
    "outputId": "e706298c-f5b1-4b17-ff34-105ad3ec6ae5"
   },
   "execution_count": null,
   "outputs": []
  },
  {
   "cell_type": "code",
   "source": [
    "# df = df.drop('date',axis=1) <= ezt már droppoltam\n",
    "df = df.drop('zipcode',axis=1) # we could also map these by price, but it requires domain experience"
   ],
   "metadata": {
    "id": "NTiD3uSIMMmE"
   },
   "execution_count": null,
   "outputs": []
  },
  {
   "cell_type": "code",
   "source": [
    "df['yr_renovated'].value_counts()\n",
    "# 0 is an indicator of no renovation; we may categorize on this attribute"
   ],
   "metadata": {
    "colab": {
     "base_uri": "https://localhost:8080/"
    },
    "id": "HCQ49hv_MTy9",
    "executionInfo": {
     "status": "ok",
     "timestamp": 1673446873435,
     "user_tz": -60,
     "elapsed": 3,
     "user": {
      "displayName": "Simon Nagy",
      "userId": "15507675268474561688"
     }
    },
    "outputId": "9c3f6436-c281-4d32-c57d-91f2527accb8"
   },
   "execution_count": null,
   "outputs": []
  },
  {
   "cell_type": "code",
   "source": [
    "df['sqft_basement'].value_counts()\n",
    "# 0 is an indicator, that there is no basement"
   ],
   "metadata": {
    "colab": {
     "base_uri": "https://localhost:8080/"
    },
    "id": "NRleyh-YMte3",
    "executionInfo": {
     "status": "ok",
     "timestamp": 1673446998433,
     "user_tz": -60,
     "elapsed": 1203,
     "user": {
      "displayName": "Simon Nagy",
      "userId": "15507675268474561688"
     }
    },
    "outputId": "edd53c71-eb6d-4d30-df67-407125369c78"
   },
   "execution_count": null,
   "outputs": []
  },
  {
   "cell_type": "markdown",
   "source": [
    "**Data preprocessing**"
   ],
   "metadata": {
    "id": "tbUolV0SSX78"
   }
  },
  {
   "cell_type": "code",
   "source": [
    "from sklearn.model_selection import train_test_split"
   ],
   "metadata": {
    "id": "2RAhYkmVOOJM",
    "executionInfo": {
     "status": "ok",
     "timestamp": 1673448277519,
     "user_tz": -60,
     "elapsed": 266,
     "user": {
      "displayName": "Simon Nagy",
      "userId": "15507675268474561688"
     }
    }
   },
   "execution_count": null,
   "outputs": []
  },
  {
   "cell_type": "code",
   "source": [
    "#X = df.drop('price',axis=1).values\n",
    "#y = df['price'].values"
   ],
   "metadata": {
    "id": "jA6xl_oKSIQe",
    "executionInfo": {
     "status": "ok",
     "timestamp": 1673448278128,
     "user_tz": -60,
     "elapsed": 1,
     "user": {
      "displayName": "Simon Nagy",
      "userId": "15507675268474561688"
     }
    }
   },
   "execution_count": null,
   "outputs": []
  },
  {
   "cell_type": "code",
   "source": [
    "X_train,X_test,y_train,y_test = train_test_split(X,y,test_size=.3,random_state=101)"
   ],
   "metadata": {
    "id": "hX4RqUEKOSnf",
    "executionInfo": {
     "status": "ok",
     "timestamp": 1673448279733,
     "user_tz": -60,
     "elapsed": 1,
     "user": {
      "displayName": "Simon Nagy",
      "userId": "15507675268474561688"
     }
    }
   },
   "execution_count": null,
   "outputs": []
  },
  {
   "cell_type": "code",
   "source": [
    "from sklearn.preprocessing import MinMaxScaler"
   ],
   "metadata": {
    "id": "VZqbfacIOcs0",
    "executionInfo": {
     "status": "ok",
     "timestamp": 1673448280092,
     "user_tz": -60,
     "elapsed": 2,
     "user": {
      "displayName": "Simon Nagy",
      "userId": "15507675268474561688"
     }
    }
   },
   "execution_count": null,
   "outputs": []
  },
  {
   "cell_type": "code",
   "source": [
    "scaler = MinMaxScaler()\n",
    "scaler.fit(X_train)"
   ],
   "metadata": {
    "colab": {
     "base_uri": "https://localhost:8080/"
    },
    "id": "DbSgaezeOgMz",
    "executionInfo": {
     "status": "ok",
     "timestamp": 1673448280366,
     "user_tz": -60,
     "elapsed": 2,
     "user": {
      "displayName": "Simon Nagy",
      "userId": "15507675268474561688"
     }
    },
    "outputId": "45450ae6-4662-4a44-9d57-5c19aa7e7405"
   },
   "execution_count": null,
   "outputs": []
  },
  {
   "cell_type": "code",
   "source": [
    "X_train = scaler.transform(X_train)"
   ],
   "metadata": {
    "id": "nzvNNdqcRWLn",
    "executionInfo": {
     "status": "ok",
     "timestamp": 1673448649637,
     "user_tz": -60,
     "elapsed": 276,
     "user": {
      "displayName": "Simon Nagy",
      "userId": "15507675268474561688"
     }
    }
   },
   "execution_count": null,
   "outputs": []
  },
  {
   "cell_type": "code",
   "source": [
    "X_test = scaler.transform(X_test)"
   ],
   "metadata": {
    "id": "tkdwP8pVUAEb",
    "executionInfo": {
     "status": "ok",
     "timestamp": 1673448673717,
     "user_tz": -60,
     "elapsed": 2,
     "user": {
      "displayName": "Simon Nagy",
      "userId": "15507675268474561688"
     }
    }
   },
   "execution_count": null,
   "outputs": []
  },
  {
   "cell_type": "markdown",
   "source": [
    "**Tensorflow**"
   ],
   "metadata": {
    "id": "Og3FhKNlSR9j"
   }
  },
  {
   "cell_type": "code",
   "source": [
    "from tensorflow.keras.models import Sequential"
   ],
   "metadata": {
    "id": "W-AbsBuDOtr_",
    "executionInfo": {
     "status": "ok",
     "timestamp": 1673448676641,
     "user_tz": -60,
     "elapsed": 260,
     "user": {
      "displayName": "Simon Nagy",
      "userId": "15507675268474561688"
     }
    }
   },
   "execution_count": null,
   "outputs": []
  },
  {
   "cell_type": "code",
   "source": [
    "from tensorflow.keras.layers import Dense"
   ],
   "metadata": {
    "id": "MnW2jVhbOxRk",
    "executionInfo": {
     "status": "ok",
     "timestamp": 1673448676642,
     "user_tz": -60,
     "elapsed": 2,
     "user": {
      "displayName": "Simon Nagy",
      "userId": "15507675268474561688"
     }
    }
   },
   "execution_count": null,
   "outputs": []
  },
  {
   "cell_type": "code",
   "source": [
    "model = Sequential()\n",
    "\n",
    "model.add(Dense(19,activation='relu'))\n",
    "model.add(Dense(19,activation='relu'))\n",
    "model.add(Dense(19,activation='relu'))\n",
    "model.add(Dense(19,activation='relu'))\n",
    "\n",
    "model.add(Dense(1))\n",
    "\n",
    "model.compile(optimizer='adam',loss='mse')"
   ],
   "metadata": {
    "id": "PTXbw7eUPFlL",
    "executionInfo": {
     "status": "ok",
     "timestamp": 1673448676642,
     "user_tz": -60,
     "elapsed": 2,
     "user": {
      "displayName": "Simon Nagy",
      "userId": "15507675268474561688"
     }
    }
   },
   "execution_count": null,
   "outputs": []
  },
  {
   "cell_type": "code",
   "source": [
    "model.fit(x=X_train,y=y_train,validation_data=(X_test,y_test),batch_size=128,epochs=400)\n",
    "# batch size should be powers of 2; small batch sizes result in less overfitting"
   ],
   "metadata": {
    "colab": {
     "base_uri": "https://localhost:8080/"
    },
    "id": "NwLabVL5PWG_",
    "executionInfo": {
     "status": "ok",
     "timestamp": 1673448821615,
     "user_tz": -60,
     "elapsed": 142967,
     "user": {
      "displayName": "Simon Nagy",
      "userId": "15507675268474561688"
     }
    },
    "outputId": "9782a7e6-28d8-460a-b3aa-12b464a49506"
   },
   "execution_count": null,
   "outputs": []
  },
  {
   "cell_type": "markdown",
   "source": [
    "**Model performance evaluation**"
   ],
   "metadata": {
    "id": "Q7z2FewrWuvF"
   }
  },
  {
   "cell_type": "code",
   "source": [
    "losses = pd.DataFrame(model.history.history)"
   ],
   "metadata": {
    "id": "bhsKVna-P9NH",
    "executionInfo": {
     "status": "ok",
     "timestamp": 1673449036024,
     "user_tz": -60,
     "elapsed": 2,
     "user": {
      "displayName": "Simon Nagy",
      "userId": "15507675268474561688"
     }
    }
   },
   "execution_count": null,
   "outputs": []
  },
  {
   "cell_type": "code",
   "source": [
    "losses.plot()\n",
    "# increasing validation loss would indicate overfitting"
   ],
   "metadata": {
    "colab": {
     "base_uri": "https://localhost:8080/",
     "height": 293
    },
    "id": "xgpscrjkVUMs",
    "executionInfo": {
     "status": "ok",
     "timestamp": 1673449068475,
     "user_tz": -60,
     "elapsed": 268,
     "user": {
      "displayName": "Simon Nagy",
      "userId": "15507675268474561688"
     }
    },
    "outputId": "3be42c39-5e51-47d4-a16d-287ab487f54a"
   },
   "execution_count": null,
   "outputs": []
  },
  {
   "cell_type": "code",
   "source": [
    "from sklearn.metrics import mean_absolute_error,mean_squared_error,explained_variance_score"
   ],
   "metadata": {
    "id": "4fzC1QHnVeqU",
    "executionInfo": {
     "status": "ok",
     "timestamp": 1673449147958,
     "user_tz": -60,
     "elapsed": 1255,
     "user": {
      "displayName": "Simon Nagy",
      "userId": "15507675268474561688"
     }
    }
   },
   "execution_count": null,
   "outputs": []
  },
  {
   "cell_type": "code",
   "source": [
    "predictions = model.predict(X_test)"
   ],
   "metadata": {
    "colab": {
     "base_uri": "https://localhost:8080/"
    },
    "id": "6fI6sQFEV4bD",
    "executionInfo": {
     "status": "ok",
     "timestamp": 1673449159384,
     "user_tz": -60,
     "elapsed": 1685,
     "user": {
      "displayName": "Simon Nagy",
      "userId": "15507675268474561688"
     }
    },
    "outputId": "6baeb284-4bca-4e8f-c7f1-2616195815a6"
   },
   "execution_count": null,
   "outputs": []
  },
  {
   "cell_type": "code",
   "source": [
    "mean_absolute_error(y_test,predictions)"
   ],
   "metadata": {
    "colab": {
     "base_uri": "https://localhost:8080/"
    },
    "id": "kJLR0Ma9V7KM",
    "executionInfo": {
     "status": "ok",
     "timestamp": 1673449222621,
     "user_tz": -60,
     "elapsed": 5,
     "user": {
      "displayName": "Simon Nagy",
      "userId": "15507675268474561688"
     }
    },
    "outputId": "d5f1db45-eb8c-4489-f82d-f80044fb2c1f"
   },
   "execution_count": null,
   "outputs": []
  },
  {
   "cell_type": "code",
   "source": [
    "mean_squared_error(y_test,predictions)"
   ],
   "metadata": {
    "colab": {
     "base_uri": "https://localhost:8080/"
    },
    "id": "SqdTWvvzWKpw",
    "executionInfo": {
     "status": "ok",
     "timestamp": 1673449232581,
     "user_tz": -60,
     "elapsed": 3,
     "user": {
      "displayName": "Simon Nagy",
      "userId": "15507675268474561688"
     }
    },
    "outputId": "8a9122f6-897e-478c-ca3b-df9c0b2a1066"
   },
   "execution_count": null,
   "outputs": []
  },
  {
   "cell_type": "code",
   "source": [
    "np.sqrt(mean_squared_error(y_test,predictions))\n"
   ],
   "metadata": {
    "colab": {
     "base_uri": "https://localhost:8080/"
    },
    "id": "dkobAC6gWNY0",
    "executionInfo": {
     "status": "ok",
     "timestamp": 1673449238719,
     "user_tz": -60,
     "elapsed": 1114,
     "user": {
      "displayName": "Simon Nagy",
      "userId": "15507675268474561688"
     }
    },
    "outputId": "5b617420-fee8-4d5c-dfdd-a8b7392fdbe7"
   },
   "execution_count": null,
   "outputs": []
  },
  {
   "cell_type": "code",
   "source": [
    "explained_variance_score(y_test,predictions)"
   ],
   "metadata": {
    "colab": {
     "base_uri": "https://localhost:8080/"
    },
    "id": "8dFRaOA1WOnj",
    "executionInfo": {
     "status": "ok",
     "timestamp": 1673449239446,
     "user_tz": -60,
     "elapsed": 2,
     "user": {
      "displayName": "Simon Nagy",
      "userId": "15507675268474561688"
     }
    },
    "outputId": "3135fc36-b49f-4ea7-825f-1c24b113e0b8"
   },
   "execution_count": null,
   "outputs": []
  },
  {
   "cell_type": "code",
   "source": [
    "plt.scatter(y_test,predictions)\n",
    "plt.plot(y_test,y_test,'r')"
   ],
   "metadata": {
    "colab": {
     "base_uri": "https://localhost:8080/",
     "height": 306
    },
    "id": "v0WKO_VUWO8G",
    "executionInfo": {
     "status": "ok",
     "timestamp": 1673450387141,
     "user_tz": -60,
     "elapsed": 556,
     "user": {
      "displayName": "Simon Nagy",
      "userId": "15507675268474561688"
     }
    },
    "outputId": "1f79a31b-d2b8-4565-e33b-bfa6082972f8"
   },
   "execution_count": null,
   "outputs": []
  }
 ]
}
